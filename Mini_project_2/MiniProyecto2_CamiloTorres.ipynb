{
 "cells": [
  {
   "cell_type": "code",
   "execution_count": 1,
   "metadata": {},
   "outputs": [],
   "source": [
    "import numpy as np\n",
    "import matplotlib.pyplot as plt\n",
    "from scipy.optimize import curve_fit"
   ]
  },
  {
   "cell_type": "markdown",
   "metadata": {},
   "source": [
    "# Miniproyecto # 2\n",
    "## 2D Ising Model: Densidad de estados y función partición.\n",
    "\n",
    "Instituto de Fı́sica. Universidad de Antioquia.\n",
    "\n",
    "Camilo José Torres Castaño\n",
    "C.c. 1036401258"
   ]
  },
  {
   "cell_type": "markdown",
   "metadata": {},
   "source": [
    "# 1. Microestados y Densidad de Energía\n",
    "Contar microestados para un modelo de Ising 2D donde los espines pueden estar en dos posibles estados $|↑>$ o $|↓>$"
   ]
  },
  {
   "cell_type": "code",
   "execution_count": 2,
   "metadata": {},
   "outputs": [],
   "source": [
    "# Función que agrega, de uno en uno, el número de spines del sistema\n",
    "def spin_throw(spinThrow_n1): # spinThrow_n1 es la lista para los spines\n",
    "    spin = [-1, 1]\n",
    "    # Si la primera lista está vacía, se llena con los valores de 1 y -1\n",
    "    if (np.array(spinThrow_n1).size==0):\n",
    "        spinThrow_n2=np.array([[i] for i in spin])\n",
    "        \n",
    "    # Si la primera lista no está vacía\n",
    "    else:\n",
    "        spinThrow_n2 = [] # La lista spinThrow_n2 se vacía\n",
    "        for d in spinThrow_n1: # Se recorre cada elemento de spinThrow_n1\n",
    "            for t in spin: \n",
    "                spinThrow_n2.append([*d,t]) # A cada elemento de spinThrow_n1 se le agrega un -1 y luego un 1 y\n",
    "                                            # se agrega a una nueva lista.\n",
    "    return spinThrow_n2\n",
    "\n",
    "# Función que crea una matriz con todas las combinaciones de espines del sistema\n",
    "def microstates(N):\n",
    "    spinThrow = []\n",
    "    \n",
    "    for i in range(N): \n",
    "        spinThrow = spin_throw(spinThrow)\n",
    "    \n",
    "    return np.array(spinThrow)"
   ]
  },
  {
   "cell_type": "markdown",
   "metadata": {},
   "source": [
    "## Energía\n",
    "La energía se expresa según el hamiltoniano del sistema el cual considera interacciones entre espı́nes primeros vecinos (con integral de intercambio J = 1) con condiciones de frontera periódicas.\n",
    "\n",
    "\n",
    "$$ \\mathcal{H}=-\\sum_{<k,l>} \\sigma_{k}\\sigma_{l}$$"
   ]
  },
  {
   "cell_type": "code",
   "execution_count": 3,
   "metadata": {},
   "outputs": [],
   "source": [
    "# Para las condiciones de frontera: \n",
    "# Función que devuelve, para el microestado i-ésimo, las posiciones y cuales son los de microestados con condiciones de frontera periódicas para este \n",
    "def boundary_cond(i, L, microstates):\n",
    "    N=L*L\n",
    "    return (microstates[(i//L)*L+(i+1)%L], microstates[(i+L)%N],\n",
    "            microstates[(i//L)*L+(i-1)%L], microstates[(i-L)%N])"
   ]
  },
  {
   "cell_type": "code",
   "execution_count": 4,
   "metadata": {},
   "outputs": [],
   "source": [
    "# La energía es el negativo de la sumatoria del producto de cada microestado con los espines primeros vecinos\n",
    "def energia(L, microstates):\n",
    "    return -0.5*sum(microstates[i]*j\n",
    "                    for i in range(L*L)\n",
    "                    for j in boundary_cond(i, L, microstates)\n",
    "                   )\n",
    "\n",
    "\n",
    "def densidadenergia(L, microstates):\n",
    "    lista_micro = []\n",
    "    den_energias = [] \n",
    "    funcion_particion =[]\n",
    "    dic_energias={}\n",
    "    \n",
    "    for estado in microstates:\n",
    "        \n",
    "        energia_i = energia(L,estado) # Se calcula la energia de cada microestado\n",
    "\n",
    "        if energia_i not in dic_energias: # Se realiza el conteo de energía y determinar la degenerancia\n",
    "            dic_energias[energia_i] = 0\n",
    "        dic_energias[energia_i] += 1\n",
    "\n",
    "        lista_micro.append(estado)\n",
    "        den_energias.append(energia_i)\n",
    "\n",
    "    en_items = list(dic_energias.items())\n",
    "    \n",
    "    energs,rept=np.array([a[0] for a in en_items]), np.array([a[1] for a in en_items])\n",
    "    \n",
    "    indx=np.argsort(energs) # Para organizar\n",
    "    energias_final=energs[indx]   #\n",
    "    degeneracion=rept[indx]\n",
    "\n",
    "    return energias_final, degeneracion, lista_micro, den_energias"
   ]
  },
  {
   "cell_type": "code",
   "execution_count": 5,
   "metadata": {},
   "outputs": [],
   "source": [
    "# función para fittear, una gaussiana con una amplitud\n",
    "def func(x, mu, sigma, A):\n",
    "    return (A/(sigma*np.sqrt(2*np.pi)))*np.exp(-(x-mu)**2/(2*sigma**2))"
   ]
  },
  {
   "cell_type": "markdown",
   "metadata": {},
   "source": [
    "### 1.1. Microestados y densidad de energía para L = 1, N = 1x1 = 1"
   ]
  },
  {
   "cell_type": "code",
   "execution_count": 6,
   "metadata": {},
   "outputs": [],
   "source": [
    "L1 = 1\n",
    "N1=L1*L1\n",
    "microestados1 = microstates(N1)\n",
    "energia1, degeneracion1, lista_micro1,den_energias1 = densidadenergia(L1, microestados1)"
   ]
  },
  {
   "cell_type": "markdown",
   "metadata": {},
   "source": [
    "Microestados para un sistema de $N = 1$ espines con la energía por microestado:"
   ]
  },
  {
   "cell_type": "code",
   "execution_count": 7,
   "metadata": {},
   "outputs": [
    {
     "name": "stdout",
     "output_type": "stream",
     "text": [
      " Microestados | Energía\n",
      "[-1] |  -2.0 \n",
      "[1] |  -2.0 \n"
     ]
    }
   ],
   "source": [
    "print(\" Microestados | Energía\")\n",
    "for i in range(len(lista_micro1)):\n",
    "    print (lista_micro1[i], \"| {:>5}\".format(den_energias1[i]),end=' ')\n",
    "    print()"
   ]
  },
  {
   "cell_type": "markdown",
   "metadata": {},
   "source": [
    "Densidad de estados $\\Omega(E)$ para N = 1.\n",
    "\n",
    "Microestados agrupados por cantidad según el valor de la energı́a (degenerancia)."
   ]
  },
  {
   "cell_type": "code",
   "execution_count": 8,
   "metadata": {},
   "outputs": [
    {
     "name": "stdout",
     "output_type": "stream",
     "text": [
      "|  -2.0 |     2\n"
     ]
    }
   ],
   "source": [
    "for i in range(len(energia1)):\n",
    "    print ( \"| {:>5}\".format(energia1[i]),  \"| {:>5}\".format(degeneracion1[i]))"
   ]
  },
  {
   "cell_type": "code",
   "execution_count": 9,
   "metadata": {},
   "outputs": [
    {
     "data": {
      "image/png": "[encoded data removed]",
      "text/plain": [
       "<Figure size 720x720 with 1 Axes>"
      ]
     },
     "metadata": {
      "needs_background": "light"
     },
     "output_type": "display_data"
    }
   ],
   "source": [
    "fig = plt.figure(figsize=(10,10))\n",
    "plt.bar(energia1, degeneracion1, label='data',edgecolor = 'black',color='b')\n",
    "plt.xlabel(\"Energy\", fontsize=20)\n",
    "plt.ylabel(\"Number of micro-states with the same energy\", fontsize=16)\n",
    "plt.title(\"Ising model for a square of 1 spins\", fontsize=18)\n",
    "plt.xticks(energia1)\n",
    "plt.grid()\n",
    "plt.savefig(\"Histogram_1spins.png\")\n",
    "plt.show()"
   ]
  },
  {
   "cell_type": "markdown",
   "metadata": {},
   "source": [
    "### 1.2. Microestados y densidad de energía para L = 2, N = 2x2 = 4"
   ]
  },
  {
   "cell_type": "code",
   "execution_count": 10,
   "metadata": {},
   "outputs": [],
   "source": [
    "L2 = 2\n",
    "N2=L2*L2\n",
    "microestados2 = microstates(N2)\n",
    "energia2, degeneracion2, lista_micro2,den_energias2 = densidadenergia(L2, microestados2)"
   ]
  },
  {
   "cell_type": "markdown",
   "metadata": {},
   "source": [
    "Microestados para un sistema de $N = 4$ espines con la energía por microestado:"
   ]
  },
  {
   "cell_type": "code",
   "execution_count": 11,
   "metadata": {},
   "outputs": [
    {
     "name": "stdout",
     "output_type": "stream",
     "text": [
      " Microestados | Energía\n",
      "[-1 -1 -1 -1] |  -8.0 \n",
      "[-1 -1 -1  1] |  -0.0 \n",
      "[-1 -1  1 -1] |  -0.0 \n",
      "[-1 -1  1  1] |  -0.0 \n",
      "[-1  1 -1 -1] |  -0.0 \n",
      "[-1  1 -1  1] |  -0.0 \n",
      "[-1  1  1 -1] |   8.0 \n",
      "[-1  1  1  1] |  -0.0 \n",
      "[ 1 -1 -1 -1] |  -0.0 \n",
      "[ 1 -1 -1  1] |   8.0 \n",
      "[ 1 -1  1 -1] |  -0.0 \n",
      "[ 1 -1  1  1] |  -0.0 \n",
      "[ 1  1 -1 -1] |  -0.0 \n",
      "[ 1  1 -1  1] |  -0.0 \n",
      "[ 1  1  1 -1] |  -0.0 \n",
      "[1 1 1 1] |  -8.0 \n"
     ]
    }
   ],
   "source": [
    "print(\" Microestados | Energía\")\n",
    "for i in range(len(lista_micro2)):\n",
    "    print (lista_micro2[i], \"| {:>5}\".format(den_energias2[i]),end=' ')\n",
    "    print()"
   ]
  },
  {
   "cell_type": "markdown",
   "metadata": {},
   "source": [
    "Densidad de estados $\\Omega(E)$ para N = 4.\n",
    "\n",
    "Microestados agrupados por cantidad según el valor de la energı́a (degenerancia)."
   ]
  },
  {
   "cell_type": "code",
   "execution_count": 12,
   "metadata": {},
   "outputs": [
    {
     "name": "stdout",
     "output_type": "stream",
     "text": [
      "|  -8.0 |     2\n",
      "|  -0.0 |    12\n",
      "|   8.0 |     2\n"
     ]
    }
   ],
   "source": [
    "for i in range(len(energia2)):\n",
    "    print ( \"| {:>5}\".format(energia2[i]),  \"| {:>5}\".format(degeneracion2[i]))"
   ]
  },
  {
   "cell_type": "code",
   "execution_count": 13,
   "metadata": {},
   "outputs": [
    {
     "name": "stdout",
     "output_type": "stream",
     "text": [
      "La desviación estandar para N=4 es:  4.0\n"
     ]
    }
   ],
   "source": [
    "standardeviation2 = np.std(den_energias2)\n",
    "print(\"La desviación estandar para N=4 es: \",standardeviation2)"
   ]
  },
  {
   "cell_type": "code",
   "execution_count": 14,
   "metadata": {},
   "outputs": [
    {
     "data": {
      "image/png": "[encoded data removed]",
      "text/plain": [
       "<Figure size 720x720 with 1 Axes>"
      ]
     },
     "metadata": {
      "needs_background": "light"
     },
     "output_type": "display_data"
    },
    {
     "ename": "NameError",
     "evalue": "name 'popt' is not defined",
     "output_type": "error",
     "traceback": [
      "\u001b[0;31m---------------------------------------------------------------------------\u001b[0m",
      "\u001b[0;31mNameError\u001b[0m                                 Traceback (most recent call last)",
      "\u001b[0;32m<ipython-input-14-61fa22374eb4>\u001b[0m in \u001b[0;36m<module>\u001b[0;34m\u001b[0m\n\u001b[1;32m      9\u001b[0m \u001b[0mplt\u001b[0m\u001b[0;34m.\u001b[0m\u001b[0mshow\u001b[0m\u001b[0;34m(\u001b[0m\u001b[0;34m)\u001b[0m\u001b[0;34m\u001b[0m\u001b[0;34m\u001b[0m\u001b[0m\n\u001b[1;32m     10\u001b[0m \u001b[0;34m\u001b[0m\u001b[0m\n\u001b[0;32m---> 11\u001b[0;31m \u001b[0mprint\u001b[0m\u001b[0;34m(\u001b[0m\u001b[0mpopt\u001b[0m\u001b[0;34m)\u001b[0m\u001b[0;34m\u001b[0m\u001b[0;34m\u001b[0m\u001b[0m\n\u001b[0m",
      "\u001b[0;31mNameError\u001b[0m: name 'popt' is not defined"
     ]
    }
   ],
   "source": [
    "fig = plt.figure(figsize=(10,10))\n",
    "plt.bar(energia2, degeneracion2, label='data',edgecolor = 'black',color='b')\n",
    "plt.xlabel(\"Energy\", fontsize=20)\n",
    "plt.ylabel(\"Number of micro-states with the same energy\", fontsize=16)\n",
    "plt.title(\"Ising model for a square of 4 spins\", fontsize=18)\n",
    "plt.xticks(energia2)\n",
    "plt.grid()\n",
    "plt.savefig(\"Histogram_4spins.png\")\n",
    "plt.show()\n",
    "\n",
    "print(popt)"
   ]
  },
  {
   "cell_type": "markdown",
   "metadata": {},
   "source": [
    "### 1.3. Microestados y densidad de energía para L = 3, N = 3x3 = 9"
   ]
  },
  {
   "cell_type": "code",
   "execution_count": null,
   "metadata": {},
   "outputs": [],
   "source": [
    "L3 = 3\n",
    "N3 = L3*L3\n",
    "microestados3 = microstates(N3)\n",
    "energia3, degeneracion3, lista_micro3,den_energias3  = densidadenergia(L3, microestados3)"
   ]
  },
  {
   "cell_type": "markdown",
   "metadata": {},
   "source": [
    "Microestados para un sistema de $N = 9$ espines con la energía por microestado. "
   ]
  },
  {
   "cell_type": "code",
   "execution_count": null,
   "metadata": {},
   "outputs": [],
   "source": [
    "print(\" Microestados                | Energía\")\n",
    "for i in range(len(lista_micro3)):\n",
    "    print (lista_micro3[i], \"| {:>5}\".format(den_energias3[i]),end=' ')\n",
    "    print()"
   ]
  },
  {
   "cell_type": "markdown",
   "metadata": {},
   "source": [
    "Densidad de estados $\\Omega(E)$ para N = 9.\n",
    "\n",
    "Microestados agrupados por cantidad según el valor de la energı́a (degenerancia)."
   ]
  },
  {
   "cell_type": "code",
   "execution_count": null,
   "metadata": {},
   "outputs": [],
   "source": [
    "for i in range(len(energia3)):\n",
    "    print ( \"| {:>5}\".format(energia3[i]),  \"| {:>5}\".format(degeneracion3[i]))"
   ]
  },
  {
   "cell_type": "code",
   "execution_count": null,
   "metadata": {},
   "outputs": [],
   "source": [
    "standardeviation3=np.std(den_energias3)\n",
    "print(\"La desviación estandar para N=9 es: \",standardeviation3)"
   ]
  },
  {
   "cell_type": "code",
   "execution_count": null,
   "metadata": {},
   "outputs": [],
   "source": [
    "fig = plt.figure(figsize=(10,10))\n",
    "plt.bar(energia3, degeneracion3, label='data',edgecolor = 'black',color='b')\n",
    "plt.xlabel(\"Energy\", fontsize=20)\n",
    "plt.ylabel(\"Number of micro-states with the same energy\", fontsize=16)\n",
    "plt.title(\"Ising model for a square of 9 spins\", fontsize=18)\n",
    "plt.xticks(energia3)\n",
    "plt.grid()\n",
    "plt.savefig(\"Histogram_9spins.png\")\n",
    "plt.show()\n",
    "\n",
    "print(popt)"
   ]
  },
  {
   "cell_type": "markdown",
   "metadata": {},
   "source": [
    "### 1.4. Microestados y densidad de energía para L = 4, N = 4x4 = 16"
   ]
  },
  {
   "cell_type": "code",
   "execution_count": null,
   "metadata": {},
   "outputs": [],
   "source": [
    "L4 = 4\n",
    "N4=L4*L4\n",
    "microestados4 = microstates(N4)\n",
    "energia4, degeneracion4, lista_micro4,den_energias4 = densidadenergia(L4, microestados4)"
   ]
  },
  {
   "cell_type": "markdown",
   "metadata": {},
   "source": [
    "Microestados para un sistema de $N = 16$ espines con la energía por microestado. "
   ]
  },
  {
   "cell_type": "code",
   "execution_count": null,
   "metadata": {},
   "outputs": [],
   "source": [
    "print(\" Microestados                                     | Energía\")\n",
    "for i in range(len(lista_micro4)):\n",
    "    print (lista_micro4[i], \"| {:>5}\".format(den_energias4[i]),end=' ')\n",
    "    print()"
   ]
  },
  {
   "cell_type": "markdown",
   "metadata": {},
   "source": [
    "Densidad de estados $\\Omega(E)$ para N = 16.\n",
    "\n",
    "Microestados agrupados por cantidad según el valor de la energı́a (degenerancia)."
   ]
  },
  {
   "cell_type": "code",
   "execution_count": null,
   "metadata": {},
   "outputs": [],
   "source": [
    "for i in range(len(energia4)):\n",
    "    print ( \"| {:>5}\".format(energia4[i]),  \"| {:>5}\".format(degeneracion4[i]))"
   ]
  },
  {
   "cell_type": "code",
   "execution_count": null,
   "metadata": {},
   "outputs": [],
   "source": [
    "standardeviation4=np.std(den_energias4)\n",
    "print(\"La desviación estandar para N=16 es: \",standardeviation4)"
   ]
  },
  {
   "cell_type": "code",
   "execution_count": null,
   "metadata": {},
   "outputs": [],
   "source": [
    "fig = plt.figure(figsize=(10,10))\n",
    "plt.bar(energia4, degeneracion4, label='data',edgecolor = 'black',color='b')\n",
    "plt.xlabel(\"Energy\", fontsize=20)\n",
    "plt.ylabel(\"Number of micro-states with the same energy\", fontsize=16)\n",
    "plt.title(\"Ising model for a square of 16 spins\", fontsize=18)\n",
    "plt.xticks(energia4)\n",
    "plt.grid()\n",
    "plt.savefig(\"Histogram_16spins.png\")\n",
    "plt.show()"
   ]
  },
  {
   "cell_type": "markdown",
   "metadata": {},
   "source": [
    "### 1.5. Microestados y densidad de energía para L = 5, N = 5x5 = 25\n",
    "\n",
    "Para este valor de $L=5$ utilicé un código aparte, que lo corrí en el cluster de la universidad, debido a que con la memoria de mi computadora, usando el notebook de jupyter, el kernel se desconectaba por la necesidad de calcular $2^{5\\times 5}=33554432$ microestados.\n",
    "\n",
    "10 microestados para un sistema de $N = 16$ espines con la energía por microestado. "
   ]
  },
  {
   "cell_type": "markdown",
   "metadata": {},
   "source": [
    "<img src=\"micro5x5.png\">"
   ]
  },
  {
   "cell_type": "markdown",
   "metadata": {},
   "source": [
    "Densidad de estados $\\Omega(E)$ para N = 25.\n",
    "\n",
    "Microestados agrupados por cantidad según el valor de la energı́a (degenerancia).\n",
    "\n",
    "<img src=\"den25.png\">\n",
    "\n",
    "La desviación estandar para N=25 es:\n",
    "\n",
    "<img src=\"desv25.png\">"
   ]
  },
  {
   "cell_type": "markdown",
   "metadata": {},
   "source": [
    "<img src=\"plots/Histogram_N25spins2.png\">"
   ]
  },
  {
   "cell_type": "markdown",
   "metadata": {},
   "source": [
    "# 2. Función partición canónica\n",
    "Con base en lo anterior demuestre la equivalencia entre la suma sobre estados de la función partición canónica y la suma sobre energı́as para un N dado y tres valores de $\\beta$ tomando $k_{B} = 1$ con $T =2, \\ 2.5,\\ 3$.\n",
    "\n",
    "$$Z(\\beta)=\\sum_{\\sigma}e^{-\\beta E(\\sigma)}=\\sum_{E}\\Omega(E)\\ e^{-\\beta E} $$\n"
   ]
  },
  {
   "cell_type": "code",
   "execution_count": null,
   "metadata": {},
   "outputs": [],
   "source": [
    "# Para calcular la función partición.\n",
    "# Con la suma sobre las energias y sobre los microestados.\n",
    "\n",
    "def funcionParticion(Temperature,degeneracion,energias,lista_micro, den_energias):\n",
    "    k = 1\n",
    "    funcpart_energ = []\n",
    "    funcpart_micro = []\n",
    "    \n",
    "    for temp in Temperature:\n",
    "        func_energ = sum(degeneracion*np.exp(-energias/(k*temp))) #Para k=1, con una temperatura dada, hace la suma sobre todas las energías\n",
    "        func_micro = 0\n",
    "        \n",
    "        for i in range(len(lista_micro)):   # Para k=1, con una temperatura dada, hace la suma sobre todos los microestados\n",
    "            E = den_energias[i]  # Energía de cada microestado            \n",
    "            func_micro = func_micro + np.exp(-E/(k*temp))\n",
    "\n",
    "        funcpart_energ.append(func_energ)\n",
    "        funcpart_micro.append(func_micro)\n",
    "\n",
    "    return funcpart_energ, funcpart_micro"
   ]
  },
  {
   "cell_type": "code",
   "execution_count": null,
   "metadata": {},
   "outputs": [],
   "source": [
    "Temp = [2, 2.5, 3, 5] # Temperatura\n",
    "\n",
    "funcpart2 = funcionParticion(Temp, degeneracion2, energia2, lista_micro2, den_energias2)\n",
    "funcpart3 = funcionParticion(Temp, degeneracion3, energia3, lista_micro3, den_energias3)\n",
    "funcpart4 = funcionParticion(Temp, degeneracion4, energia4, lista_micro4, den_energias4)\n",
    "\n",
    "print(\"Función Partición Canónica para N = 4\")\n",
    "print(\"---------------------------------------------------------------------\")\n",
    "print(\"|Temperatura (K)| Suma sobre energías     | Suma sobre microestados |\")\n",
    "print(\"---------------------------------------------------------------------\")\n",
    "for i in range(len(Temp)):\n",
    "    print(\"|      {:<3}      | Z = {:<18}  | Z = {:<18}  |\".format(Temp[i],funcpart2[0][i],funcpart2[1][i]))\n",
    "    print(\"---------------------------------------------------------------------\")\n",
    "    \n",
    "print(\"\\nFunción Partición Canónica para N = 9\")\n",
    "print(\"---------------------------------------------------------------------\")\n",
    "print(\"|Temperatura (K)| Suma sobre energías     | Suma sobre microestados |\")\n",
    "print(\"---------------------------------------------------------------------\")\n",
    "for i in range(len(Temp)):\n",
    "    print(\"|      {:<3}      | Z = {:<18}  | Z = {:<18}  |\".format(Temp[i],funcpart3[0][i],funcpart3[1][i]))\n",
    "    print(\"---------------------------------------------------------------------\")\n",
    "\n",
    "print(\"\\nFunción Partición Canónica para N = 16\")\n",
    "print(\"---------------------------------------------------------------------\")\n",
    "print(\"|Temperatura (K)| Suma sobre energías     | Suma sobre microestados |\")\n",
    "print(\"---------------------------------------------------------------------\")\n",
    "for i in range(len(Temp)):\n",
    "    print(\"|      {:<3}      | Z = {:<18}  | Z = {:<18}  |\".format(Temp[i],funcpart4[0][i],funcpart4[1][i]))\n",
    "    print(\"---------------------------------------------------------------------\")"
   ]
  },
  {
   "cell_type": "markdown",
   "metadata": {},
   "source": [
    "## 2.1. Energía media\n",
    "Para N = 4 × 4, haga un barrido sobre un amplio rango de valores de $\\beta$, para obtener una gráfica de $<E>$ en función de $T$ , usando $<E> = −\\partial lnZ/\\partial \\beta$. ¿Qué concluye?\n",
    "\n",
    "$$ <E>  = - \\frac{\\partial lnZ(\\beta)}{\\partial \\beta}=- \\frac{1}{Z(\\beta)} \\frac{\\partial Z(\\beta)}{\\partial \\beta}=\\frac{\\sum_{E}E\\ \\Omega(E)\\ e^{-\\beta E}}{\\sum_{E}\\Omega(E)\\ e^{-\\beta E}}$$"
   ]
  },
  {
   "cell_type": "code",
   "execution_count": null,
   "metadata": {},
   "outputs": [],
   "source": [
    "def energiamedia(Temperature, energias, degeneracion,Z):    \n",
    "    E_prom  = [] # Energía media\n",
    "    E2_prom = [] # Energía cuadrada media\n",
    "    sumaEner, sumaEner2 = 0,0\n",
    "    i=0\n",
    "    for temp in Temperature:\n",
    "        sumaEner = sum(energias*degeneracion*np.exp(-energias/temp)) # Se hace -dZ/dB\n",
    "        e_prom = sumaEner/Z[i]                                          # Se divide entre la función partición \n",
    "        \n",
    "        sumaEner2 = sum(energias**2*degeneracion*np.exp(-energias/temp))\n",
    "        e2_prom = sumaEner2/Z[i] \n",
    "        \n",
    "        #print(\"sum\",sumaEner2)\n",
    "        #print(\"Z\",Z[i])\n",
    "        E_prom.append(e_prom)\n",
    "        #print(\"Epro\",e_prom)\n",
    "        E2_prom.append(e2_prom)\n",
    "        #print(e2_prom)\n",
    "        i+=1\n",
    "    \n",
    "    E_prom = np.array(E_prom)\n",
    "    E2_prom = np.array(E2_prom)\n",
    "        \n",
    "    return E_prom, E2_prom"
   ]
  },
  {
   "cell_type": "code",
   "execution_count": null,
   "metadata": {},
   "outputs": [],
   "source": [
    "Temp = np.linspace(0.1,30.0,300)\n",
    "\n",
    "# Calcular la energía media para N=2x2\n",
    "funcpart2 = funcionParticion(Temp, degeneracion2, energia2, lista_micro2, den_energias2)\n",
    "EnergiaMedia2 = energiamedia(Temp, energia2, degeneracion2, funcpart2[0])\n",
    "\n",
    "# Calcular la energía media para N=3x3\n",
    "funcpart3 = funcionParticion(Temp, degeneracion3, energia3, lista_micro3, den_energias3)\n",
    "EnergiaMedia3 = energiamedia(Temp, energia3, degeneracion3, funcpart3[0])\n",
    "\n",
    "# Calcular la energía media para N=4x4\n",
    "funcpart4 = funcionParticion(Temp, degeneracion4, energia4, lista_micro4, den_energias4)\n",
    "EnergiaMedia4 = energiamedia(Temp, energia4, degeneracion4, funcpart4[0])"
   ]
  },
  {
   "cell_type": "code",
   "execution_count": null,
   "metadata": {},
   "outputs": [],
   "source": [
    "fig = plt.figure(figsize=(10,5))\n",
    "plt.plot(Temp,EnergiaMedia2[0],\"b\",label=\"N=2x2\")\n",
    "plt.plot(Temp,EnergiaMedia3[0],\"m\",label=\"N=3x3\")\n",
    "plt.plot(Temp,EnergiaMedia4[0],\"r\",label=\"N=4x4\")\n",
    "plt.xlabel(\"Temperature T(K)\", fontsize=20)\n",
    "plt.ylabel(\"Average energy <E>\", fontsize=20)\n",
    "plt.title(\"Average energy in function of temperature\", fontsize=20)\n",
    "plt.legend()\n",
    "plt.grid()\n",
    "plt.show()"
   ]
  },
  {
   "cell_type": "markdown",
   "metadata": {},
   "source": [
    "Primero, se puede observar que la energía media del sistema siempre es negativa. Entre mayor sea el número de espines en el sistema la energía media a $T=0\\ K$ es cada vez más baja. Finalmente, y más importante, la energía media sube rápidamente y cuanto la temperatura $T$ tiende a infinito la energía media del sistema tiende asintóticamente a cero."
   ]
  },
  {
   "cell_type": "markdown",
   "metadata": {},
   "source": [
    "Gráfica calculada en el cluster de la universidad.\n",
    "\n",
    "<img src=\"plots/AvarageEnergy2.png\">"
   ]
  },
  {
   "cell_type": "markdown",
   "metadata": {},
   "source": [
    "# 3. Calor especı́fico\n",
    "Demuestre teóricamente la siguiente expresión del calor especı́fico (a partir de su definición termodinámica) y de la definición de promedios en el ensamble canónico:\n",
    "\n",
    "$$c_{v}=\\frac{\\beta^{2}}{N}\\ \\left(<E^{2}>-<E>^{2}\\right)$$\n",
    "\n",
    "e impleméntela en su programa para obtener curvas del calor especı́fico en función de la temperatura.\n",
    "\n",
    "### Demostración:\n",
    "\n",
    "Tomando la función de distribución de probabilidad como la función partición canónica de la forma:\n",
    "\n",
    "$$Z\\left( \\beta \\right) = \\sum_{\\sigma}e^{-\\beta E_{\\sigma}}$$\n",
    "\n",
    "\n",
    "La energía media:\n",
    "\n",
    "$$<E>=\\frac{\\sum_{\\sigma}E_{\\sigma}e^{-\\beta E_{\\sigma}}}{\\sum_{\\sigma}e^{-\\beta E_{\\sigma}}} \n",
    "= \\frac{1}{Z}\\sum_{\\sigma}E_{\\sigma}e^{-\\beta E_{\\sigma}}\n",
    "= \\frac{-1}{Z}\\sum_{\\sigma}\\frac{\\partial}{\\partial \\beta}e^{-\\beta E_{\\sigma}} \n",
    "= \\frac{-1}{Z}\\frac{\\partial}{\\partial \\beta} \\sum_{\\sigma}e^{-\\beta E_{\\sigma}}\n",
    "= \\frac{-1}{Z}\\frac{\\partial Z}{\\partial \\beta} $$\n",
    "\n",
    "\n",
    "$$<E>=- \\frac{\\partial lnZ}{\\partial \\beta}$$\n",
    "\n",
    "La energía cuadrada media:\n",
    "\n",
    "$$<E^{2}>=\\frac{\\sum_{\\sigma}E_{\\sigma}^{2}e^{-\\beta E_{\\sigma}}}{\\sum_{\\sigma}e^{-\\beta E_{\\sigma}}} \n",
    "= \\frac{1}{Z}\\sum_{\\sigma}\\frac{\\partial^{2}}{\\partial \\beta^{2}}e^{-\\beta E_{\\sigma}} \n",
    "= \\frac{1}{Z}\\frac{\\partial^{2}}{\\partial \\beta^{2}}\\sum_{\\sigma}e^{-\\beta E_{\\sigma}}$$\n",
    "$$<E^{2}> = \\frac{1}{Z}\\frac{\\partial^{2} Z}{\\partial \\beta^{2}} $$\n",
    "\n",
    "Sumando y restando el término:\n",
    "\n",
    "$$<E^{2}> = \\frac{1}{Z}\\frac{\\partial^{2} Z}{\\partial \\beta^{2}} + \\left(\\frac{1}{Z}\\frac{\\partial Z}{\\partial \\beta}  \\right)^{2}-\\left(\\frac{1}{Z}\\frac{\\partial Z}{\\partial \\beta}  \\right)^{2}$$\n",
    "\n",
    "Restando:\n",
    "\n",
    "$$<E^{2}> - <E>^{2} = \\frac{1}{Z}\\frac{\\partial^{2} Z}{\\partial \\beta^{2}} - \\left(\\frac{1}{Z}\\frac{\\partial Z}{\\partial \\beta}  \\right)^{2}\n",
    "= \\frac{\\partial }{\\partial \\beta}\\left(\\frac{1}{Z} \\frac{\\partial Z}{\\partial \\beta} \\right)\n",
    "= -\\frac{\\partial }{\\partial \\beta}<E>\n",
    "= -\\frac{\\partial <E>}{\\partial \\beta}$$\n",
    "\n",
    "Como: \n",
    "\n",
    "$$U=<E>\\ \\ \\rightarrow \\ \\ C_{v}=\\frac{\\partial <E>}{\\partial \\beta}=\\frac{\\partial U}{\\partial \\beta}$$\n",
    "\n",
    "y:\n",
    "\n",
    "$$\\beta = \\frac{1}{k_{B}T} \\ , \\ \\ k_{B}=1 \\ \\ \\rightarrow\\ \\ = \\frac{\\partial T}{\\partial \\beta}=-T^{2}$$ \n",
    "\n",
    "Reemplazando:\n",
    "\n",
    "$$<E^{2}> - <E>^{2}=T^{2}C_{v}$$\n",
    "\n",
    "$$C_{v}=\\beta^{2}<E^{2}> - <E>^{2}$$\n",
    "\n",
    "Finalmente, dividiendo entre $N$ a ambos lados:\n",
    "\n",
    "$$c_{v}=\\frac{\\beta^{2}}{N} \\left( <E^{2}> - <E>^{2}\\right)$$\n"
   ]
  },
  {
   "cell_type": "code",
   "execution_count": null,
   "metadata": {},
   "outputs": [],
   "source": [
    "def calorespecifico(N,Temperatures,EnergiaMedia):         \n",
    "    CalorEsp=[]\n",
    "    jj = 0\n",
    "\n",
    "    for t in range(len(EnergiaMedia[1])):\n",
    "        c_v = (EnergiaMedia[1][t]-(EnergiaMedia[0][t])**2)/(N*(Temperatures[t]**2)) # Se calcula el calor específico para una lista\n",
    "        CalorEsp.append(c_v)                                        # de energías medias previamente calculadas con \n",
    "                                                                    # un linspace de temperaturas, que también se \n",
    "    return CalorEsp                                                 # debe usar en esta función."
   ]
  },
  {
   "cell_type": "code",
   "execution_count": null,
   "metadata": {},
   "outputs": [],
   "source": [
    "Temp = np.linspace(0.1,10.0,200)\n",
    "\n",
    "# Calcular la energía media para N=2x2\n",
    "funcpart2 = funcionParticion(Temp, degeneracion2, energia2, lista_micro2, den_energias2)\n",
    "EnergiaMedia2 = energiamedia(Temp, energia2, degeneracion2, funcpart2[0])\n",
    "cv2 = calorespecifico(N2,Temp, EnergiaMedia2)\n",
    "\n",
    "# Calcular la energía media para N=3x3\n",
    "funcpart3 = funcionParticion(Temp, degeneracion3, energia3, lista_micro3, den_energias3)\n",
    "EnergiaMedia3 = energiamedia(Temp, energia3, degeneracion3, funcpart3[0])\n",
    "cv3 = calorespecifico(N3,Temp, EnergiaMedia3)\n",
    "\n",
    "# Calcular la energía media para N=4x4\n",
    "funcpart4 = funcionParticion(Temp, degeneracion4, energia4, lista_micro4, den_energias4)\n",
    "EnergiaMedia4 = energiamedia(Temp, energia4, degeneracion4, funcpart4[0])\n",
    "cv4 = calorespecifico(N4,Temp, EnergiaMedia4)"
   ]
  },
  {
   "cell_type": "code",
   "execution_count": null,
   "metadata": {
    "scrolled": true
   },
   "outputs": [],
   "source": [
    "fig = plt.figure(figsize=(10,5))\n",
    "plt.plot(Temp,cv4,\"b\",label=\"N=4x4\")\n",
    "plt.plot(Temp,cv3,\"r\",label=\"N=3x3\")\n",
    "plt.plot(Temp,cv2,\"m\",label=\"N=2x2\")\n",
    "plt.xlabel(\"Temperature $T(K)$\", fontsize=20)\n",
    "plt.ylabel(\"Specific heat capacity $c_{v}$\", fontsize=20)\n",
    "plt.title(\"Specific heat capacity in function of Temperature\", fontsize=16)\n",
    "plt.legend()\n",
    "plt.xlim(0,10)\n",
    "plt.grid()\n",
    "plt.show()"
   ]
  },
  {
   "cell_type": "code",
   "execution_count": null,
   "metadata": {},
   "outputs": [],
   "source": [
    "print(\"Temperatura de Curie Tc(L).\\n\")\n",
    "print(\"Para L = 2, Tc(2) = {} K\".format(Temp[cv2.index(max(cv2))]))\n",
    "print(\"Para L = 3, Tc(3) = {} K\".format(Temp[cv3.index(max(cv3))]))\n",
    "print(\"Para L = 4, Tc(4) = {} K\".format(Temp[cv4.index(max(cv4))]))"
   ]
  },
  {
   "cell_type": "markdown",
   "metadata": {},
   "source": [
    "Gráfica calculada en el cluster de la universidad.\n",
    "\n",
    "<img src=\"plots/SpecificHeat2.png\">"
   ]
  },
  {
   "cell_type": "markdown",
   "metadata": {},
   "source": [
    "## DESVIACIÓN ESTANDAR\n",
    "\n",
    "Calculados con el código diseñado para correr en el cluster de la Universidad."
   ]
  },
  {
   "cell_type": "code",
   "execution_count": null,
   "metadata": {},
   "outputs": [],
   "source": [
    "DesvStd = [4.0, 4.242640687119285, 5.656854249492381, 7.0710678118654755]"
   ]
  },
  {
   "cell_type": "markdown",
   "metadata": {},
   "source": [
    "## TIEMPO DE CÓMPUTO\n",
    "\n",
    "Calculados con el código diseñado para correr en el cluster de la Universidad."
   ]
  },
  {
   "cell_type": "code",
   "execution_count": null,
   "metadata": {},
   "outputs": [],
   "source": [
    "N_list = [4, 9, 16, 25]\n",
    "tiempos = [0.22282966692000628, 0.4161024559289217, 30.853339622030035, 17629.112718727905]"
   ]
  },
  {
   "cell_type": "code",
   "execution_count": null,
   "metadata": {},
   "outputs": [],
   "source": [
    "def func(x, A, B, C,a):\n",
    "    return A+B*x+C*np.exp(a*x)"
   ]
  },
  {
   "cell_type": "code",
   "execution_count": null,
   "metadata": {},
   "outputs": [],
   "source": [
    "popt, pcov = curve_fit(func, N_list, tiempos,bounds=(-np.inf,np.inf),p0=[0,1,10000,10])"
   ]
  },
  {
   "cell_type": "code",
   "execution_count": null,
   "metadata": {},
   "outputs": [],
   "source": [
    "print(popt)"
   ]
  },
  {
   "cell_type": "code",
   "execution_count": null,
   "metadata": {},
   "outputs": [],
   "source": [
    "fig = plt.figure(figsize=(10,5))\n",
    "plt.plot(np.linspace(0,64),func(np.linspace(0,64),*popt),label=\"fit curve\")\n",
    "plt.plot(N_list[0],tiempos[0],'ro',label=\"N=2x2\")\n",
    "plt.plot(N_list[1],tiempos[1],'go',label=\"N=3x3\")\n",
    "plt.plot(N_list[2],tiempos[2],'mo',label=\"N=4x4\")\n",
    "plt.plot(N_list[3],tiempos[3],'go',label=\"N=5x5\")\n",
    "plt.plot(64,func(64,*popt),'yo',label=\"N=8x8\")\n",
    "plt.xlabel(\"Number of spins $N$\", fontsize=20)\n",
    "plt.ylabel(\"Comput time t(s)\", fontsize=20)\n",
    "plt.title(\"Compute study\", fontsize=16)\n",
    "plt.savefig(\"time.png\")\n",
    "plt.legend()\n",
    "plt.grid()\n",
    "plt.show()"
   ]
  },
  {
   "cell_type": "code",
   "execution_count": null,
   "metadata": {},
   "outputs": [],
   "source": [
    "print(\"Para N=8x8=64, el tiempo que se demoraría el código es de\",func(64,*popt),\"s\")\n",
    "print(\"Osea 2.5e+258 años!\")"
   ]
  },
  {
   "cell_type": "code",
   "execution_count": null,
   "metadata": {},
   "outputs": [],
   "source": []
  },
  {
   "cell_type": "code",
   "execution_count": null,
   "metadata": {},
   "outputs": [],
   "source": []
  }
 ],
 "metadata": {
  "kernelspec": {
   "display_name": "Python 3",
   "language": "python",
   "name": "python3"
  },
  "language_info": {
   "codemirror_mode": {
    "name": "ipython",
    "version": 3
   },
   "file_extension": ".py",
   "mimetype": "text/x-python",
   "name": "python",
   "nbconvert_exporter": "python",
   "pygments_lexer": "ipython3",
   "version": "3.8.10"
  }
 },
 "nbformat": 4,
 "nbformat_minor": 4
}
